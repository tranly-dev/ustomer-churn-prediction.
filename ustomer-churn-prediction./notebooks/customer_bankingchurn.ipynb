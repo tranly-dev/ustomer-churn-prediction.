{
  "nbformat": 4,
  "nbformat_minor": 0,
  "metadata": {
    "colab": {
      "provenance": [],
      "authorship_tag": "ABX9TyPCAx5b5/tEZ45kPLlzpEzA",
      "include_colab_link": true
    },
    "kernelspec": {
      "name": "python3",
      "display_name": "Python 3"
    },
    "language_info": {
      "name": "python"
    }
  },
  "cells": [
    {
      "cell_type": "markdown",
      "metadata": {
        "id": "view-in-github",
        "colab_type": "text"
      },
      "source": [
        "<a href=\"https://colab.research.google.com/github/tranly-dev/ustomer-churn-prediction./blob/main/ustomer-churn-prediction./notebooks/customer_bankingchurn.ipynb\" target=\"_parent\"><img src=\"https://colab.research.google.com/assets/colab-badge.svg\" alt=\"Open In Colab\"/></a>"
      ]
    },
    {
      "cell_type": "markdown",
      "source": [
        "# 🏦 Customer Churn Analysis\n",
        "Phân tích dữ liệu khách hàng rời bỏ ngân hàng nhằm:\n",
        "- Tìm hiểu đặc điểm nhóm khách hàng **churn** (rời đi) so với **non-churn**.\n",
        "- Xây dựng nền tảng cho mô hình dự đoán churn."
      ],
      "metadata": {
        "id": "db4B13_CvDZe"
      }
    },
    {
      "cell_type": "markdown",
      "source": [
        "## 1️⃣ Import libraries\n",
        "Các thư viện chính:\n",
        "- `pandas`, `numpy`: xử lý dữ liệu.\n",
        "- `matplotlib`, `seaborn`: trực quan hóa dữ liệu.\n"
      ],
      "metadata": {
        "id": "YwlkQcy-vNbX"
      }
    },
    {
      "cell_type": "code",
      "execution_count": null,
      "metadata": {
        "id": "c-wf72KNtz2_"
      },
      "outputs": [],
      "source": [
        "# 1. Import libraries\n",
        "import pandas as pd\n",
        "import numpy as np\n",
        "import matplotlib.pyplot as plt\n",
        "import seaborn as sns\n",
        "\n",
        "# Hiển thị trực quan đẹp hơn\n",
        "plt.style.use('seaborn-v0_8')\n",
        "sns.set_palette(\"Set2\")\n",
        "\n",
        "# Cấu hình hiển thị\n",
        "pd.set_option('display.max_columns', None)\n"
      ]
    },
    {
      "cell_type": "markdown",
      "source": [
        "## 2️⃣ Load dataset\n",
        "Dữ liệu nằm trong thư mục `../data/raw/Churn_Modelling.csv`.  \n",
        "Mục tiêu: kiểm tra kích thước và xem qua vài dòng đầu.\n"
      ],
      "metadata": {
        "id": "KxJdjVfevPLS"
      }
    },
    {
      "cell_type": "code",
      "source": [
        "# 2. Load dataset\n",
        "data = pd.read_csv('../data/raw/Churn_Modelling.csv')\n",
        "\n",
        "print(\"Kích thước dữ liệu:\", data.shape)\n",
        "data.head()\n"
      ],
      "metadata": {
        "id": "ryiKjQznuCKP"
      },
      "execution_count": null,
      "outputs": []
    },
    {
      "cell_type": "markdown",
      "source": [
        "## 3️⃣ Kiểm tra dữ liệu tổng quan\n",
        "- Kiểm tra thông tin các cột (`info()`).\n",
        "- Thống kê mô tả (`describe()`).\n",
        "- Kiểm tra giá trị bị thiếu (`isnull()`).\n"
      ],
      "metadata": {
        "id": "LmUROc1_vY9N"
      }
    },
    {
      "cell_type": "code",
      "source": [
        "# 3. Kiểm tra dữ liệu tổng quan\n",
        "data.info()\n",
        "print(\"\\nThống kê mô tả:\")\n",
        "display(data.describe())\n",
        "\n",
        "# Kiểm tra giá trị null\n",
        "print(\"\\nSố lượng giá trị bị thiếu mỗi cột:\")\n",
        "print(data.isnull().sum())\n"
      ],
      "metadata": {
        "id": "MvGU7_DpuDxH"
      },
      "execution_count": null,
      "outputs": []
    },
    {
      "cell_type": "markdown",
      "source": [
        "## 4️⃣ Phân tích sơ bộ\n",
        "\n",
        "Trong phần này, chúng ta thực hiện **phân tích khám phá dữ liệu (EDA)** để hiểu rõ hơn về đặc điểm khách hàng và hành vi rời bỏ (churn).\n",
        "\n",
        "**Mục tiêu:**\n",
        "- Tính tỷ lệ khách hàng churn tổng thể.\n",
        "- Trực quan hóa churn theo **giới tính**, **quốc gia**, và **độ tuổi**.\n",
        "- Quan sát phân phối các biến chính trong dataset.\n"
      ],
      "metadata": {
        "id": "gM3pr8g4vZpO"
      }
    },
    {
      "cell_type": "code",
      "source": [
        "# 4. Phân tích sơ bộ\n",
        "# Tỉ lệ churn\n",
        "churn_rate = data['Exited'].value_counts(normalize=True)\n",
        "print(\"Tỉ lệ churn:\")\n",
        "print(churn_rate)\n",
        "\n",
        "# Biểu đồ phân bố churn\n",
        "sns.countplot(x='Exited', data=data)\n",
        "plt.title('Phân bố khách hàng churn vs giữ lại')\n",
        "plt.show()\n",
        "\n",
        "# Churn theo giới tính\n",
        "sns.countplot(x='Gender', hue='Exited', data=data)\n",
        "plt.title('Tỉ lệ churn theo giới tính')\n",
        "plt.show()\n",
        "\n",
        "# Churn theo quốc gia\n",
        "sns.countplot(x='Geography', hue='Exited', data=data)\n",
        "plt.title('Tỉ lệ churn theo quốc gia')\n",
        "plt.show()\n",
        "\n",
        "# Phân phối tuổi\n",
        "sns.histplot(data['Age'], kde=True)\n",
        "plt.title('Phân phối tuổi khách hàng')\n",
        "plt.show()\n"
      ],
      "metadata": {
        "id": "znQ93IKCuFP2"
      },
      "execution_count": null,
      "outputs": []
    },
    {
      "cell_type": "markdown",
      "source": [
        "## 5️⃣ Phân tích tương quan giữa các biến số\n",
        "\n",
        "Mục tiêu:\n",
        "- Xem xét mối tương quan giữa các biến định lượng (như `CreditScore`, `Age`, `Balance`, `EstimatedSalary`, …).\n",
        "- Tìm hiểu những đặc điểm có thể ảnh hưởng mạnh đến biến mục tiêu `Exited`.\n",
        "\n",
        "Chúng ta sẽ dùng **ma trận tương quan (correlation matrix)** và **biểu đồ nhiệt (heatmap)** để trực quan hóa.\n"
      ],
      "metadata": {
        "id": "8YfKCNq2vb32"
      }
    },
    {
      "cell_type": "code",
      "source": [
        "# 5. Phân tích tương quan giữa các biến số\n",
        "corr = data.corr(numeric_only=True)\n",
        "plt.figure(figsize=(10, 6))\n",
        "sns.heatmap(corr, annot=True, cmap='coolwarm', fmt=\".2f\")\n",
        "plt.title(\"Ma trận tương quan giữa các biến số\")\n",
        "plt.show()\n"
      ],
      "metadata": {
        "id": "15KL7T0YuGzL"
      },
      "execution_count": null,
      "outputs": []
    },
    {
      "cell_type": "markdown",
      "source": [
        "## 6️⃣ Nhận xét sơ bộ sau EDA\n",
        "\n",
        "Dựa trên các biểu đồ và thống kê ở trên, ta rút ra một số nhận xét nhanh về dữ liệu.\n"
      ],
      "metadata": {
        "id": "_86EEAbMvcjq"
      }
    },
    {
      "cell_type": "code",
      "source": [
        "# 6. Nhận xét sơ bộ\n",
        "print(\"\"\"\n",
        "🔹 Dataset gồm khoảng 10k khách hàng, 14 cột đặc trưng.\n",
        "🔹 Biến mục tiêu: Exited (1 = Churn, 0 = Retained).\n",
        "🔹 Dữ liệu khá sạch, không có missing values.\n",
        "🔹 Các yếu tố ảnh hưởng lớn đến churn: Age, CreditScore, IsActiveMember, Geography.\n",
        "\"\"\")\n"
      ],
      "metadata": {
        "id": "cI4Pl1HBuIWM"
      },
      "execution_count": null,
      "outputs": []
    },
    {
      "cell_type": "markdown",
      "source": [
        "### 📌 Tổng kết ban đầu\n",
        "\n",
        "- Dataset gồm khoảng **10.000 khách hàng**, **14 cột đặc trưng**.  \n",
        "- Biến mục tiêu: **Exited**  \n",
        "  - 1 → khách hàng **rời đi (Churn)**  \n",
        "  - 0 → khách hàng **ở lại (Retained)**  \n",
        "- Dữ liệu **khá sạch**, không có missing values.  \n",
        "- Một số yếu tố có thể ảnh hưởng lớn đến khả năng churn:\n",
        "  - `Age`, `CreditScore`, `IsActiveMember`, `Geography`.\n"
      ],
      "metadata": {
        "id": "uZBA-0AHv5JN"
      }
    }
  ]
}