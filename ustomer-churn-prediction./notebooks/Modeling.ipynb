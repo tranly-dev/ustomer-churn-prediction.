{
  "nbformat": 4,
  "nbformat_minor": 0,
  "metadata": {
    "colab": {
      "provenance": [],
      "authorship_tag": "ABX9TyME/TTERl1dHJolGOH/GeAX",
      "include_colab_link": true
    },
    "kernelspec": {
      "name": "python3",
      "display_name": "Python 3"
    },
    "language_info": {
      "name": "python"
    }
  },
  "cells": [
    {
      "cell_type": "markdown",
      "metadata": {
        "id": "view-in-github",
        "colab_type": "text"
      },
      "source": [
        "<a href=\"https://colab.research.google.com/github/tranly-dev/ustomer-churn-prediction./blob/main/ustomer-churn-prediction./notebooks/Modeling.ipynb\" target=\"_parent\"><img src=\"https://colab.research.google.com/assets/colab-badge.svg\" alt=\"Open In Colab\"/></a>"
      ]
    },
    {
      "cell_type": "markdown",
      "source": [
        "# 🧠 Customer Churn Prediction – Model Training\n",
        "\n",
        "Trong notebook này, ta sẽ xây dựng mô hình **dự đoán khả năng khách hàng rời bỏ (churn)** dựa trên dữ liệu `Churn_Modelling.csv`.\n",
        "\n",
        "## 🎯 Mục tiêu:\n",
        "- Hiểu và chuẩn bị dữ liệu đầu vào\n",
        "- Xây dựng mô hình Logistic Regression (baseline)\n",
        "- Đánh giá độ chính xác (accuracy, AUC, confusion matrix)\n",
        "- So sánh với mô hình khác (RandomForest)\n"
      ],
      "metadata": {
        "id": "km7GHO7hxEEU"
      }
    },
    {
      "cell_type": "markdown",
      "source": [
        "## ⚙️ 1. Import thư viện cần thiết\n"
      ],
      "metadata": {
        "id": "jRvb1KzMyG71"
      }
    },
    {
      "cell_type": "code",
      "execution_count": null,
      "metadata": {
        "id": "LqFUmks7w3nA"
      },
      "outputs": [],
      "source": [
        "import numpy as np\n",
        "import pandas as pd\n",
        "\n",
        "from sklearn.model_selection import train_test_split, GridSearchCV, cross_val_score\n",
        "from sklearn.preprocessing import OneHotEncoder, StandardScaler\n",
        "from sklearn.compose import ColumnTransformer\n",
        "from sklearn.pipeline import Pipeline\n",
        "from sklearn.linear_model import LogisticRegression\n",
        "from sklearn.metrics import (confusion_matrix, classification_report, roc_auc_score,\n",
        "                             RocCurveDisplay, ConfusionMatrixDisplay)\n",
        "from sklearn.utils.class_weight import compute_class_weight\n",
        "\n",
        "import matplotlib.pyplot as plt\n",
        "import seaborn as sns\n",
        "\n",
        "RANDOM_STATE = 42\n",
        "pd.set_option('display.max_columns', 100)\n"
      ]
    },
    {
      "cell_type": "markdown",
      "source": [
        "## 📥 2. Nạp dữ liệu\n"
      ],
      "metadata": {
        "id": "HCSJTPsayFIj"
      }
    },
    {
      "cell_type": "code",
      "source": [
        "# Thay đường dẫn tương ứng repo của bạn nếu khác\n",
        "csv_path = \"./data/raw/Churn_Modelling.csv\"\n",
        "\n",
        "df = pd.read_csv(csv_path)\n",
        "df.head()\n"
      ],
      "metadata": {
        "id": "yaGNi9UyxGhc"
      },
      "execution_count": null,
      "outputs": []
    },
    {
      "cell_type": "markdown",
      "source": [
        "## 🧹 3. Tiền xử lý dữ liệu\n",
        "- Loại bỏ cột không cần thiết (`RowNumber`, `CustomerId`, `Surname`)\n",
        "- Xác định biến mục tiêu (`Exited`)\n",
        "- Tách dữ liệu train/test\n"
      ],
      "metadata": {
        "id": "jA0ZhdK7xPnQ"
      }
    },
    {
      "cell_type": "code",
      "source": [
        "# Cột target\n",
        "TARGET_COL = \"Exited\"\n",
        "\n",
        "# Bỏ ID/metadata không mang thông tin dự báo\n",
        "drop_cols = [\"RowNumber\", \"CustomerId\", \"Surname\"]\n",
        "df_model = df.drop(columns=drop_cols, errors=\"ignore\").copy()\n",
        "\n",
        "# Kiểm tra NA (nếu có thì xử lý; ở dataset này thường không có)\n",
        "na_counts = df_model.isna().sum()\n",
        "na_counts[na_counts>0]\n"
      ],
      "metadata": {
        "id": "F8LYEIqhxPtT"
      },
      "execution_count": null,
      "outputs": []
    },
    {
      "cell_type": "code",
      "source": [
        "# Phân loại cột số & cột hạng mục (categorical)\n",
        "numeric_features = df_model.drop(columns=[TARGET_COL]).select_dtypes(include=[np.number]).columns.tolist()\n",
        "categorical_features = df_model.drop(columns=[TARGET_COL]).select_dtypes(exclude=[np.number]).columns.tolist()\n",
        "\n",
        "numeric_features, categorical_features\n"
      ],
      "metadata": {
        "id": "X5jluEV2xQnb"
      },
      "execution_count": null,
      "outputs": []
    },
    {
      "cell_type": "code",
      "source": [
        "# Tách X, y và train/test\n",
        "X = df_model.drop(columns=[TARGET_COL])\n",
        "y = df_model[TARGET_COL].astype(int)\n",
        "\n",
        "X_train, X_test, y_train, y_test = train_test_split(\n",
        "    X, y, test_size=0.2, random_state=RANDOM_STATE, stratify=y\n",
        ")\n",
        "\n",
        "X_train.shape, X_test.shape, y_train.mean(), y_test.mean()\n"
      ],
      "metadata": {
        "id": "05JYuGOCxYmg"
      },
      "execution_count": null,
      "outputs": []
    },
    {
      "cell_type": "markdown",
      "source": [
        "## 🏗 4. Xây dựng pipeline tiền xử lý và Logistic Regression\n"
      ],
      "metadata": {
        "id": "rT1GFbhexQgN"
      }
    },
    {
      "cell_type": "code",
      "source": [
        "# Bộ biến đổi theo cột\n",
        "preprocess = ColumnTransformer(\n",
        "    transformers=[\n",
        "        (\"num\", StandardScaler(), numeric_features),\n",
        "        (\"cat\", OneHotEncoder(handle_unknown=\"ignore\", sparse_output=False), categorical_features),\n",
        "    ],\n",
        "    remainder=\"drop\",\n",
        "    verbose_feature_names_out=False\n",
        ")\n",
        "\n",
        "# Mô hình baseline\n",
        "log_reg = LogisticRegression(\n",
        "    max_iter=2000,\n",
        "    class_weight=\"balanced\",\n",
        "    random_state=RANDOM_STATE,\n",
        "    n_jobs=None # logistic không dùng n_jobs\n",
        ")\n",
        "\n",
        "# Pipeline kết hợp\n",
        "pipe_lr = Pipeline(steps=[\n",
        "    (\"preprocess\", preprocess),\n",
        "    (\"model\", log_reg)\n",
        "])\n",
        "\n",
        "pipe_lr\n"
      ],
      "metadata": {
        "id": "43AeVhRexcWC"
      },
      "execution_count": null,
      "outputs": []
    },
    {
      "cell_type": "markdown",
      "source": [
        "## 📈 5. Đánh giá mô hình Logistic Regression\n"
      ],
      "metadata": {
        "id": "fcJu_I1MxdPN"
      }
    },
    {
      "cell_type": "code",
      "source": [
        "pipe_lr.fit(X_train, y_train)\n",
        "\n",
        "pred_test = pipe_lr.predict(X_test)\n",
        "proba_test = pipe_lr.predict_proba(X_test)[:, 1]\n",
        "\n",
        "print(\"AUC:\", roc_auc_score(y_test, proba_test))\n",
        "print(classification_report(y_test, pred_test, digits=4))\n",
        "\n",
        "fig, ax = plt.subplots(1,2, figsize=(12,5))\n",
        "\n",
        "ConfusionMatrixDisplay.from_predictions(y_test, pred_test, ax=ax[0], cmap=\"Blues\")\n",
        "ax[0].set_title(\"Confusion Matrix\")\n",
        "\n",
        "RocCurveDisplay.from_predictions(y_test, proba_test, ax=ax[1])\n",
        "ax[1].set_title(\"ROC Curve\")\n",
        "\n",
        "plt.show()\n"
      ],
      "metadata": {
        "id": "_A5-K9GFxdXI"
      },
      "execution_count": null,
      "outputs": []
    },
    {
      "cell_type": "markdown",
      "source": [
        "## 🌲 6. So sánh với mô hình RandomForest\n"
      ],
      "metadata": {
        "id": "kUW3WuFfxfi7"
      }
    },
    {
      "cell_type": "code",
      "source": [
        "cv_auc = cross_val_score(pipe_lr, X, y, cv=5, scoring=\"roc_auc\", n_jobs=-1)\n",
        "print(\"CV AUC:\", cv_auc.mean(), \"+/-\", cv_auc.std())\n"
      ],
      "metadata": {
        "id": "AKwtRAtJxf79"
      },
      "execution_count": null,
      "outputs": []
    },
    {
      "cell_type": "markdown",
      "source": [
        "## 💾 7. Lưu mô hình tốt nhất\n"
      ],
      "metadata": {
        "id": "_eJn7F0BxiAC"
      }
    },
    {
      "cell_type": "code",
      "source": [
        "param_grid = {\n",
        "    \"model__C\": [0.01, 0.1, 1.0, 3.0, 10.0],\n",
        "    \"model__penalty\": [\"l2\"],            # liblinear/saga với l1; ở đây dùng mặc định solver='lbfgs'\n",
        "    \"model__fit_intercept\": [True, False]\n",
        "}\n",
        "\n",
        "grid = GridSearchCV(\n",
        "    estimator=pipe_lr,\n",
        "    param_grid=param_grid,\n",
        "    cv=5,\n",
        "    scoring=\"roc_auc\",\n",
        "    n_jobs=-1,\n",
        "    verbose=1\n",
        ")\n",
        "\n",
        "grid.fit(X_train, y_train)\n",
        "print(\"Best params:\", grid.best_params_)\n",
        "print(\"Best CV AUC:\", grid.best_score_)\n",
        "\n",
        "best_model = grid.best_estimator_\n",
        "\n",
        "pred_test = best_model.predict(X_test)\n",
        "proba_test = best_model.predict_proba(X_test)[:, 1]\n",
        "print(\"TEST AUC:\", roc_auc_score(y_test, proba_test))\n",
        "print(classification_report(y_test, pred_test, digits=4))\n"
      ],
      "metadata": {
        "id": "hG2DVwTFxiLK"
      },
      "execution_count": null,
      "outputs": []
    },
    {
      "cell_type": "markdown",
      "source": [
        "## 🧪 8. Thử dự đoán một khách hàng mẫu\n"
      ],
      "metadata": {
        "id": "dY8pl5TDxj89"
      }
    },
    {
      "cell_type": "code",
      "source": [
        "from sklearn.ensemble import RandomForestClassifier\n",
        "\n",
        "rf = Pipeline(steps=[\n",
        "    (\"preprocess\", preprocess),\n",
        "    (\"model\", RandomForestClassifier(\n",
        "        n_estimators=300,\n",
        "        random_state=RANDOM_STATE,\n",
        "        class_weight=\"balanced_subsample\",\n",
        "        n_jobs=-1\n",
        "    ))\n",
        "])\n",
        "\n",
        "rf.fit(X_train, y_train)\n",
        "proba_rf = rf.predict_proba(X_test)[:, 1]\n",
        "pred_rf  = rf.predict(X_test)\n",
        "\n",
        "print(\"RF AUC:\", roc_auc_score(y_test, proba_rf))\n",
        "print(classification_report(y_test, pred_rf, digits=4))\n"
      ],
      "metadata": {
        "id": "a5r0CvSbxkCH"
      },
      "execution_count": null,
      "outputs": []
    },
    {
      "cell_type": "markdown",
      "source": [
        "## 💾 9. Lưu mô hình tốt nhất (Save the trained model)\n",
        "\n",
        "Sau khi đánh giá hiệu năng các mô hình, ta chọn mô hình có hiệu suất cao nhất (ở đây là **RandomForest**)  \n",
        "và lưu lại thành file `.pkl` để sử dụng lại cho các bước **triển khai (deployment)** hoặc **suy luận (inference)** sau này.\n",
        "\n",
        "\n"
      ],
      "metadata": {
        "id": "oO-c1zvrxmiO"
      }
    },
    {
      "cell_type": "code",
      "source": [
        "import joblib\n",
        "joblib.dump(best_model, \"./data/processed/model_churn_lr.pkl\")\n",
        "print(\"Saved to ./data/processed/model_churn_lr.pkl\")c\n"
      ],
      "metadata": {
        "id": "QeB3BewKxmpz"
      },
      "execution_count": null,
      "outputs": []
    },
    {
      "cell_type": "markdown",
      "source": [
        "## 🧪 10. Dự đoán thử trên một khách hàng (Inference Demo)\n",
        "\n",
        "Sau khi đã huấn luyện và lưu mô hình, ta có thể **tải lại** mô hình đó để kiểm thử dự đoán cho **một khách hàng cụ thể**.\n",
        "\n",
        "> ✅ Các bước thực hiện:\n",
        "> 1. Lấy một hàng dữ liệu mẫu từ `X_test`  \n",
        "> 2. Dự đoán xác suất khách hàng sẽ rời bỏ (`churn probability`)  \n",
        "> 3. Phân loại khách hàng theo ngưỡng xác suất (`threshold = 0.5`)\n",
        "\n"
      ],
      "metadata": {
        "id": "szUSUP2axofh"
      }
    },
    {
      "cell_type": "code",
      "source": [
        "# Ví dụ lấy 1 hàng từ test set\n",
        "sample = X_test.iloc[[0]].copy()\n",
        "sample, y_test.iloc[0]\n"
      ],
      "metadata": {
        "id": "LxM-S3C3xokv"
      },
      "execution_count": null,
      "outputs": []
    },
    {
      "cell_type": "code",
      "source": [
        "def predict_one(model, row_df, thr=0.5):\n",
        "    proba = model.predict_proba(row_df)[:, 1][0]\n",
        "    pred  = int(proba >= thr)\n",
        "    return {\"proba\": float(proba), \"pred\": pred}\n",
        "\n",
        "predict_one(best_model, sample, thr=0.5)\n"
      ],
      "metadata": {
        "id": "ZZCem6Q-xqTi"
      },
      "execution_count": null,
      "outputs": []
    }
  ]
}