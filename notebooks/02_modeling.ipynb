# 1) Imports
import pandas as pd, numpy as np
from sklearn.model_selection import train_test_split
from sklearn.preprocessing import OneHotEncoder, StandardScaler
from sklearn.compose import ColumnTransformer
from sklearn.pipeline import Pipeline
from sklearn.linear_model import LogisticRegression
from sklearn.metrics import classification_report, confusion_matrix, roc_auc_score
import os

# 2) Load data
csv_path = None
for p in ["../data/raw/Churn_Modelling.csv", "data/raw/Churn_Modelling.csv"]:
    if os.path.exists(p): csv_path = p; break
df = pd.read_csv(csv_path)

# 3) Chọn cột dùng model (ví dụ phổ biến cho dataset này)
cols = ["CreditScore","Geography","Gender","Age","Tenure",
        "Balance","NumOfProducts","HasCrCard","IsActiveMember","EstimatedSalary"]
X = df[cols].copy()
y = df["Exited"].astype(int)

cat_cols = ["Geography","Gender"]
num_cols = list(set(cols) - set(cat_cols))

preprocess = ColumnTransformer([
    ("num", StandardScaler(), num_cols),
    ("cat", OneHotEncoder(handle_unknown="ignore"), cat_cols)
])

model = Pipeline([
    ("prep", preprocess),
    ("clf", LogisticRegression(max_iter=200, class_weight="balanced"))
])

X_train, X_test, y_train, y_test = train_test_split(X, y, test_size=0.2, stratify=y, random_state=42)
model.fit(X_train, y_train)

pred = model.predict(X_test)
proba = model.predict_proba(X_test)[:,1]

print(classification_report(y_test, pred))
print("ROC AUC:", roc_auc_score(y_test, proba))
print("Confusion matrix:\n", confusion_matrix(y_test, pred))

