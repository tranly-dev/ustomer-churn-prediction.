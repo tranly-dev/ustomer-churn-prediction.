{
 "cells": [
  {
   "cell_type": "markdown",
   "metadata": {},
   "source": [
    "# Customer Churn – EDA\n",
    "\n",
    "Notebook khám phá dữ liệu (Exploratory Data Analysis) cho bộ dữ liệu **Churn_Modelling.csv**.\n",
    "\n",
    "**Mục tiêu:** Hiểu phân phối dữ liệu và các yếu tố liên quan đến biến mục tiêu `Exited` (1 = rời bỏ, 0 = ở lại)."
   ]
  },
  {
   "cell_type": "code",
   "execution_count": null,
   "metadata": {},
   "outputs": [],
   "source": [
    "# 1) Import libraries\\n",
    "import pandas as pd\\n",
    "import numpy as np\\n",
    "import matplotlib.pyplot as plt\\n",
    "import seaborn as sns\\n",
    "\\n",
    "plt.style.use('seaborn-v0_8')\\n",
    "sns.set_palette('Set2')\\n",
    "pd.set_option('display.max_columns', None)"
   ]
  },
  {
   "cell_type": "code",
   "execution_count": null,
   "metadata": {},
   "outputs": [],
   "source": [
    "# 2) Load dataset\\n",
    "import os\\n",
    "possible_paths = [\\n",
    "    '../data/raw/Churn_Modelling.csv',  # chạy từ notebooks/\\n",
    "    'data/raw/Churn_Modelling.csv',     # chạy ở root\\n",
    "]\\n",
    "csv_path = None\\n",
    "for p in possible_paths:\\n",
    "    if os.path.exists(p):\\n",
    "        csv_path = p\\n",
    "        break\\n",
    "if csv_path is None:\\n",
    "    raise FileNotFoundError('Không tìm thấy Churn_Modelling.csv trong data/raw/. Hãy kiểm tra đường dẫn.')\\n",
    "\\n",
    "data = pd.read_csv(csv_path)\\n",
    "print('✅ Đã nạp dữ liệu từ:', csv_path)\\n",
    "print('Kích thước dữ liệu:', data.shape)\\n",
    "data.head()"
   ]
  },
  {
   "cell_type": "code",
   "execution_count": null,
   "metadata": {},
   "outputs": [],
   "source": [
    "# 3) Tổng quan dữ liệu\\n",
    "display(data.info())\\n",
    "print('\\nThống kê mô tả:')\\n",
    "display(data.describe())\\n",
    "print('\\nSố lượng giá trị thiếu mỗi cột:')\\n",
    "print(data.isnull().sum())"
   ]
  },
  {
   "cell_type": "code",
   "execution_count": null,
   "metadata": {},
   "outputs": [],
   "source": [
    "# 4) Tỉ lệ churn và phân bố chung\\n",
    "fig, ax = plt.subplots(1, 2, figsize=(12, 5))\\n",
    "data['Exited'].value_counts().plot(kind='bar', ax=ax[0])\\n",
    "ax[0].set_title('Số lượng churn vs ở lại')\\n",
    "ax[0].set_xlabel('Exited (1 = churn)')\\n",
    "ax[0].set_ylabel('Count')\\n",
    "\\n",
    "data['Exited'].value_counts(normalize=True).plot(kind='bar', ax=ax[1], color=['#66c2a5', '#fc8d62'])\\n",
    "ax[1].set_title('Tỉ lệ churn')\\n",
    "ax[1].set_xlabel('Exited (1 = churn)')\\n",
    "ax[1].set_ylabel('Tỉ lệ')\\n",
    "plt.tight_layout()\\n",
    "plt.show()"
   ]
  },
  {
   "cell_type": "code",
   "execution_count": null,
   "metadata": {},
   "outputs": [],
   "source": [
    "# 5) Churn theo giới tính và quốc gia\\n",
    "plt.figure(figsize=(12, 4))\\n",
    "plt.subplot(1, 2, 1)\\n",
    "sns.countplot(x='Gender', hue='Exited', data=data)\\n",
    "plt.title('Tỉ lệ churn theo giới tính')\\n",
    "\\n",
    "plt.subplot(1, 2, 2)\\n",
    "sns.countplot(x='Geography', hue='Exited', data=data)\\n",
    "plt.title('Tỉ lệ churn theo quốc gia')\\n",
    "plt.tight_layout()\\n",
    "plt.show()"
   ]
  },
  {
   "cell_type": "code",
   "execution_count": null,
   "metadata": {},
   "outputs": [],
   "source": [
    "# 6) Phân phối một số biến quan trọng\\n",
    "fig, ax = plt.subplots(1, 3, figsize=(15, 4))\\n",
    "sns.histplot(data['Age'], kde=True, ax=ax[0])\\n",
    "ax[0].set_title('Phân phối tuổi')\\n",
    "sns.histplot(data['CreditScore'], kde=True, ax=ax[1])\\n",
    "ax[1].set_title('Phân phối điểm tín dụng')\\n",
    "sns.histplot(data['Balance'], kde=True, ax=ax[2])\\n",
    "ax[2].set_title('Phân phối số dư tài khoản')\\n",
    "plt.tight_layout()\\n",
    "plt.show()"
   ]
  },
  {
   "cell_type": "code",
   "execution_count": null,
   "metadata": {},
   "outputs": [],
   "source": [
    "# 7) Ma trận tương quan (các biến số)\\n",
    "corr = data.corr(numeric_only=True)\\n",
    "plt.figure(figsize=(10, 6))\\n",
    "sns.heatmap(corr, annot=True, cmap='coolwarm', fmt='.2f')\\n",
    "plt.title('Ma trận tương quan')\\n",
    "plt.show()"
   ]
  },
  {
   "cell_type": "markdown",
   "metadata": {},
   "source": [
    "## Kết luận sơ bộ\\n",
    "\\n",
    "- Biến mục tiêu: **Exited** (1 = churn, 0 = ở lại).\\n",
    "- Dữ liệu khá sạch (thường không có missing).\\n",
    "- Các yếu tố có ảnh hưởng đáng kể: **Age**, **CreditScore**, **IsActiveMember**, **Geography**, **Balance**...\\n",
    "- Bước tiếp theo: xử lý đặc trưng (one-hot `Geography`, `Gender`), chuẩn hóa/chuẩn bị dữ liệu, train các model (Logistic Regression / Tree-based)."
   ]
  }
 ],
 "metadata": {
  "kernelspec": {
   "display_name": "Python 3",
   "language": "python",
   "name": "python3"
  },
  "language_info": {
   "name": "python",
   "version": "3"
  }
 },
 "nbformat": 4,
 "nbformat_minor": 5
}

